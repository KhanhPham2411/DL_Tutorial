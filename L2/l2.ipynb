{
  "nbformat": 4,
  "nbformat_minor": 0,
  "metadata": {
    "colab": {
      "name": "Untitled9.ipynb",
      "provenance": [],
      "authorship_tag": "ABX9TyM7PKD4k1orJtY1HcadydZs",
      "include_colab_link": true
    },
    "kernelspec": {
      "name": "python3",
      "display_name": "Python 3"
    }
  },
  "cells": [
    {
      "cell_type": "markdown",
      "metadata": {
        "id": "view-in-github",
        "colab_type": "text"
      },
      "source": [
        "<a href=\"https://colab.research.google.com/github/KhanhPham2411/DL_Tutorial/blob/master/L2/l2.ipynb\" target=\"_parent\"><img src=\"https://colab.research.google.com/assets/colab-badge.svg\" alt=\"Open In Colab\"/></a>"
      ]
    },
    {
      "cell_type": "markdown",
      "metadata": {
        "id": "_4ow4hYonbQC",
        "colab_type": "text"
      },
      "source": [
        "# Prepare github files"
      ]
    },
    {
      "cell_type": "code",
      "metadata": {
        "id": "ZLfrvFAjmW1A",
        "colab_type": "code",
        "colab": {
          "base_uri": "https://localhost:8080/",
          "height": 190
        },
        "outputId": "a180ed7d-3834-40eb-e4bb-6b5fe735c533"
      },
      "source": [
        "!pip install wget"
      ],
      "execution_count": 1,
      "outputs": [
        {
          "output_type": "stream",
          "text": [
            "Collecting wget\n",
            "  Downloading https://files.pythonhosted.org/packages/47/6a/62e288da7bcda82b935ff0c6cfe542970f04e29c756b0e147251b2fb251f/wget-3.2.zip\n",
            "Building wheels for collected packages: wget\n",
            "  Building wheel for wget (setup.py) ... \u001b[?25l\u001b[?25hdone\n",
            "  Created wheel for wget: filename=wget-3.2-cp36-none-any.whl size=9682 sha256=32eb1b35fa2e4c4f0ada4708db569379ed4ea5e294c23f3c98a6b2053bd6db4d\n",
            "  Stored in directory: /root/.cache/pip/wheels/40/15/30/7d8f7cea2902b4db79e3fea550d7d7b85ecb27ef992b618f3f\n",
            "Successfully built wget\n",
            "Installing collected packages: wget\n",
            "Successfully installed wget-3.2\n"
          ],
          "name": "stdout"
        }
      ]
    },
    {
      "cell_type": "code",
      "metadata": {
        "id": "pp6rmRZwmg4c",
        "colab_type": "code",
        "colab": {
          "base_uri": "https://localhost:8080/",
          "height": 34
        },
        "outputId": "bbe016bd-729c-4d7e-be38-c508b37ecdf9"
      },
      "source": [
        "import wget\n",
        "wget.download('https://github.com/KhanhPham2411/DL_Tutorial/archive/master.zip')"
      ],
      "execution_count": 2,
      "outputs": [
        {
          "output_type": "execute_result",
          "data": {
            "text/plain": [
              "'DL_Tutorial-master.zip'"
            ]
          },
          "metadata": {
            "tags": []
          },
          "execution_count": 2
        }
      ]
    },
    {
      "cell_type": "code",
      "metadata": {
        "id": "nv5xIolPmomu",
        "colab_type": "code",
        "colab": {}
      },
      "source": [
        "!unzip DL_Tutorial-master.zip"
      ],
      "execution_count": 0,
      "outputs": []
    },
    {
      "cell_type": "code",
      "metadata": {
        "id": "AiF_dvBQmxF6",
        "colab_type": "code",
        "colab": {
          "base_uri": "https://localhost:8080/",
          "height": 34
        },
        "outputId": "4a404ced-d246-4273-abcc-41d49035b154"
      },
      "source": [
        "cd DL_Tutorial-master/L2/"
      ],
      "execution_count": 53,
      "outputs": [
        {
          "output_type": "stream",
          "text": [
            "/content/DL_Tutorial-master/L2\n"
          ],
          "name": "stdout"
        }
      ]
    },
    {
      "cell_type": "markdown",
      "metadata": {
        "id": "kULwujFOnkDP",
        "colab_type": "text"
      },
      "source": [
        "# Use Python"
      ]
    },
    {
      "cell_type": "code",
      "metadata": {
        "id": "vjEU_3rjm9pJ",
        "colab_type": "code",
        "colab": {
          "base_uri": "https://localhost:8080/",
          "height": 280
        },
        "outputId": "16c19d3f-6f87-4e87-e29f-8fb8d7be6123"
      },
      "source": [
        "import numpy as np\n",
        "import pandas as pd\n",
        "import matplotlib.pyplot as plt\n",
        "\n",
        "# Hàm sigmoid\n",
        "def sigmoid(x):\n",
        "    return 1 / (1 + np.exp(-x))\n",
        "\n",
        "# Load data từ file csv\n",
        "data = pd.read_csv('dataset.csv').values\n",
        "N, d = data.shape\n",
        "x = data[:, 0:d-1].reshape(-1, d-1)\n",
        "y = data[:, 2].reshape(-1, 1)\n",
        "\n",
        "# Vẽ data bằng scatter\n",
        "x_cho_vay = x[y[:,0]==1]\n",
        "x_tu_choi = x[y[:,0]==0]\n",
        "\n",
        "plt.scatter(x_cho_vay[:, 0], x_cho_vay[:, 1], c='red', edgecolors='none', s=30, label='cho vay')\n",
        "plt.scatter(x_tu_choi[:, 0], x_tu_choi[:, 1], c='blue', edgecolors='none', s=30, label='từ chối')\n",
        "plt.legend(loc=1)\n",
        "plt.xlabel('mức lương (triệu)')\n",
        "plt.ylabel('kinh nghiệm (năm)')\n",
        "\n",
        "# Thêm cột 1 vào dữ liệu x\n",
        "x = np.hstack((np.ones((N, 1)), x))\n",
        "\n",
        "w = np.array([0.,0.1,0.1]).reshape(-1,1)\n",
        "\n",
        "# Số lần lặp bước 2\n",
        "numOfIteration = 1000\n",
        "cost = np.zeros((numOfIteration,1))\n",
        "learning_rate = 0.01\n",
        "\n",
        "for i in range(1, numOfIteration):\n",
        "    \n",
        "\t # Tính giá trị dự đoán\n",
        "    y_predict = sigmoid(np.dot(x, w))\n",
        "    cost[i] = -np.sum(np.multiply(y, np.log(y_predict)) + np.multiply(1-y, np.log(1-y_predict)))\n",
        "    # Gradient descent\n",
        "    w = w - learning_rate * np.dot(x.T, y_predict-y)\t \n",
        "    # print(cost[i])\n",
        "\n",
        "# Vẽ đường phân cách.\n",
        "t = 0.5\n",
        "plt.plot((4, 10),(-(w[0]+4*w[1]+ np.log(1/t-1))/w[2], -(w[0] + 10*w[1]+ np.log(1/t-1))/w[2]), 'g')\n",
        "plt.show()"
      ],
      "execution_count": 55,
      "outputs": [
        {
          "output_type": "display_data",
          "data": {
            "image/png": "[encoded data removed]",
            "text/plain": [
              "<Figure size 432x288 with 1 Axes>"
            ]
          },
          "metadata": {
            "tags": [],
            "needs_background": "light"
          }
        }
      ]
    },
    {
      "cell_type": "markdown",
      "metadata": {
        "id": "Hp7_NvZonq60",
        "colab_type": "text"
      },
      "source": [
        "# Use Tensorflow"
      ]
    },
    {
      "cell_type": "code",
      "metadata": {
        "id": "6Hty8qPln5RS",
        "colab_type": "code",
        "colab": {}
      },
      "source": [
        "import numpy as np\n",
        "import pandas as pd\n",
        "import matplotlib.pyplot as plt\n",
        "\n",
        "# Load data từ file csv\n",
        "data = pd.read_csv('dataset.csv').values\n",
        "N, d = data.shape\n",
        "x = data[:, 0:d-1].reshape(-1, d-1)\n",
        "y = data[:, 2].reshape(-1, 1)"
      ],
      "execution_count": 0,
      "outputs": []
    },
    {
      "cell_type": "code",
      "metadata": {
        "id": "Fet6cBsBoj0z",
        "colab_type": "code",
        "colab": {
          "base_uri": "https://localhost:8080/",
          "height": 187
        },
        "outputId": "8d55558a-14fc-4e37-c577-8ae61ae12295"
      },
      "source": [
        "from tensorflow.keras import Sequential\n",
        "from tensorflow.keras.layers import Dense\n",
        "\n",
        "model = Sequential()\n",
        "model.add(Dense(1, input_shape = (1, 2), activation=\"sigmoid\"))\n",
        "model.summary()"
      ],
      "execution_count": 57,
      "outputs": [
        {
          "output_type": "stream",
          "text": [
            "Model: \"sequential_7\"\n",
            "_________________________________________________________________\n",
            "Layer (type)                 Output Shape              Param #   \n",
            "=================================================================\n",
            "dense_4 (Dense)              (None, 1, 1)              3         \n",
            "=================================================================\n",
            "Total params: 3\n",
            "Trainable params: 3\n",
            "Non-trainable params: 0\n",
            "_________________________________________________________________\n"
          ],
          "name": "stdout"
        }
      ]
    },
    {
      "cell_type": "code",
      "metadata": {
        "id": "CydpXAPzpSyg",
        "colab_type": "code",
        "colab": {}
      },
      "source": [
        "from tensorflow.keras.optimizers import RMSprop\n",
        "\n",
        "model.compile(optimizer=RMSprop(learning_rate=0.1), loss=\"mean_squared_error\", metrics=[\"acc\"])"
      ],
      "execution_count": 0,
      "outputs": []
    },
    {
      "cell_type": "code",
      "metadata": {
        "id": "u5oUoA3Sphkl",
        "colab_type": "code",
        "colab": {
          "base_uri": "https://localhost:8080/",
          "height": 768
        },
        "outputId": "1ca227ee-74e5-4031-c9ca-c939cb4f5a02"
      },
      "source": [
        "model.fit(x, y, epochs=20)"
      ],
      "execution_count": 61,
      "outputs": [
        {
          "output_type": "stream",
          "text": [
            "Epoch 1/20\n",
            "WARNING:tensorflow:Model was constructed with shape (None, 1, 2) for input Tensor(\"dense_4_input:0\", shape=(None, 1, 2), dtype=float32), but it was called on an input with incompatible shape (None, 2).\n",
            "WARNING:tensorflow:Model was constructed with shape (None, 1, 2) for input Tensor(\"dense_4_input:0\", shape=(None, 1, 2), dtype=float32), but it was called on an input with incompatible shape (None, 2).\n",
            "1/1 [==============================] - 0s 2ms/step - loss: 0.1438 - acc: 0.8500\n",
            "Epoch 2/20\n",
            "1/1 [==============================] - 0s 2ms/step - loss: 0.2372 - acc: 0.7000\n",
            "Epoch 3/20\n",
            "1/1 [==============================] - 0s 1ms/step - loss: 0.1263 - acc: 0.8000\n",
            "Epoch 4/20\n",
            "1/1 [==============================] - 0s 1ms/step - loss: 0.1244 - acc: 0.8500\n",
            "Epoch 5/20\n",
            "1/1 [==============================] - 0s 2ms/step - loss: 0.1232 - acc: 0.8000\n",
            "Epoch 6/20\n",
            "1/1 [==============================] - 0s 1ms/step - loss: 0.1255 - acc: 0.7000\n",
            "Epoch 7/20\n",
            "1/1 [==============================] - 0s 2ms/step - loss: 0.1331 - acc: 0.8500\n",
            "Epoch 8/20\n",
            "1/1 [==============================] - 0s 5ms/step - loss: 0.1474 - acc: 0.8000\n",
            "Epoch 9/20\n",
            "1/1 [==============================] - 0s 2ms/step - loss: 0.1251 - acc: 0.8500\n",
            "Epoch 10/20\n",
            "1/1 [==============================] - 0s 4ms/step - loss: 0.1264 - acc: 0.8000\n",
            "Epoch 11/20\n",
            "1/1 [==============================] - 0s 3ms/step - loss: 0.1192 - acc: 0.8000\n",
            "Epoch 12/20\n",
            "1/1 [==============================] - 0s 2ms/step - loss: 0.1191 - acc: 0.8000\n",
            "Epoch 13/20\n",
            "1/1 [==============================] - 0s 2ms/step - loss: 0.1153 - acc: 0.8000\n",
            "Epoch 14/20\n",
            "1/1 [==============================] - 0s 2ms/step - loss: 0.1153 - acc: 0.8000\n",
            "Epoch 15/20\n",
            "1/1 [==============================] - 0s 1ms/step - loss: 0.1127 - acc: 0.8000\n",
            "Epoch 16/20\n",
            "1/1 [==============================] - 0s 2ms/step - loss: 0.1132 - acc: 0.8000\n",
            "Epoch 17/20\n",
            "1/1 [==============================] - 0s 2ms/step - loss: 0.1108 - acc: 0.8000\n",
            "Epoch 18/20\n",
            "1/1 [==============================] - 0s 1ms/step - loss: 0.1118 - acc: 0.8000\n",
            "Epoch 19/20\n",
            "1/1 [==============================] - 0s 2ms/step - loss: 0.1091 - acc: 0.8500\n",
            "Epoch 20/20\n",
            "1/1 [==============================] - 0s 2ms/step - loss: 0.1100 - acc: 0.8000\n"
          ],
          "name": "stdout"
        },
        {
          "output_type": "execute_result",
          "data": {
            "text/plain": [
              "<tensorflow.python.keras.callbacks.History at 0x7fd7bdd46748>"
            ]
          },
          "metadata": {
            "tags": []
          },
          "execution_count": 61
        }
      ]
    },
    {
      "cell_type": "code",
      "metadata": {
        "id": "m5D6PbX1t_1B",
        "colab_type": "code",
        "colab": {
          "base_uri": "https://localhost:8080/",
          "height": 357
        },
        "outputId": "3f909f3f-265b-4368-dac6-f2d27dcd91e5"
      },
      "source": [
        "x"
      ],
      "execution_count": 68,
      "outputs": [
        {
          "output_type": "execute_result",
          "data": {
            "text/plain": [
              "array([[10.  ,  1.  ],\n",
              "       [ 5.  ,  2.  ],\n",
              "       [ 6.  ,  1.8 ],\n",
              "       [ 7.  ,  1.  ],\n",
              "       [ 8.  ,  2.  ],\n",
              "       [ 9.  ,  0.5 ],\n",
              "       [ 4.  ,  3.  ],\n",
              "       [ 5.  ,  2.5 ],\n",
              "       [ 8.  ,  1.  ],\n",
              "       [ 4.  ,  2.5 ],\n",
              "       [ 8.  ,  0.1 ],\n",
              "       [ 7.  ,  0.15],\n",
              "       [ 4.  ,  1.  ],\n",
              "       [ 5.  ,  0.8 ],\n",
              "       [ 7.  ,  0.3 ],\n",
              "       [ 4.  ,  1.  ],\n",
              "       [ 5.  ,  0.5 ],\n",
              "       [ 6.  ,  0.3 ],\n",
              "       [ 7.  ,  0.2 ],\n",
              "       [ 8.  ,  0.15]])"
            ]
          },
          "metadata": {
            "tags": []
          },
          "execution_count": 68
        }
      ]
    },
    {
      "cell_type": "code",
      "metadata": {
        "id": "H5gSwNrvqcNm",
        "colab_type": "code",
        "colab": {
          "base_uri": "https://localhost:8080/",
          "height": 34
        },
        "outputId": "d24587a7-e6c6-4dad-b806-f03af8f51c35"
      },
      "source": [
        "model.predict([[10.,  1.]])"
      ],
      "execution_count": 72,
      "outputs": [
        {
          "output_type": "execute_result",
          "data": {
            "text/plain": [
              "array([[0.7680323]], dtype=float32)"
            ]
          },
          "metadata": {
            "tags": []
          },
          "execution_count": 72
        }
      ]
    }
  ]
}